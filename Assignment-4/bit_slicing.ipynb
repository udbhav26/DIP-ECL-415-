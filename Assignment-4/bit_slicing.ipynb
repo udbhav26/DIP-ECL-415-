{
 "cells": [
  {
   "cell_type": "code",
   "execution_count": 2,
   "metadata": {},
   "outputs": [],
   "source": [
    "import cv2\n",
    "import numpy as np\n",
    "\n",
    "# Read the grayscale image\n",
    "image = cv2.imread('lenna.jpeg', cv2.IMREAD_GRAYSCALE)\n",
    "\n",
    "# Check if the image was loaded correctly\n",
    "if image is None:\n",
    "    print(\"Error: Image not found or unable to read the image.\")\n",
    "else:\n",
    "    # Number of bits in the image\n",
    "    num_bits = 8\n",
    "\n",
    "    # Process each bit plane\n",
    "    for i in range(num_bits):\n",
    "        # Create a bit plane by shifting the image and masking with 1\n",
    "        bit_plane = (image >> i) & 1\n",
    "        \n",
    "        # Scale the bit plane to 255 for visibility\n",
    "        bit_plane = bit_plane * 255\n",
    "        \n",
    "        # Display the bit plane\n",
    "        cv2.imshow(f'Bit Plane {i}', bit_plane.astype(np.uint8))\n",
    "    \n",
    "    # Wait indefinitely until a key is pressed\n",
    "    cv2.waitKey(0)\n",
    "    cv2.destroyAllWindows()\n"
   ]
  },
  {
   "cell_type": "code",
   "execution_count": null,
   "metadata": {},
   "outputs": [],
   "source": []
  }
 ],
 "metadata": {
  "kernelspec": {
   "display_name": "Python 3",
   "language": "python",
   "name": "python3"
  },
  "language_info": {
   "codemirror_mode": {
    "name": "ipython",
    "version": 3
   },
   "file_extension": ".py",
   "mimetype": "text/x-python",
   "name": "python",
   "nbconvert_exporter": "python",
   "pygments_lexer": "ipython3",
   "version": "3.11.4"
  }
 },
 "nbformat": 4,
 "nbformat_minor": 2
}
